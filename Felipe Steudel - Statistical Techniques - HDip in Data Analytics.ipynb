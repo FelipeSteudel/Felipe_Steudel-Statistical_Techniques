{
 "cells": [
  {
   "cell_type": "markdown",
   "id": "13926db7",
   "metadata": {},
   "source": [
    "# Tarefa 1 - Análise de Dados\n",
    "\n",
    "Sua tarefa é encontrar um conjunto de dados de interesse para você, que contenha uma mistura de variáveis categóricas e numéricas. Como orientação, o conjunto de dados deve ter um mínimo de duas variáveis categóricas e três variáveis numéricas (esses critérios mínimos são orientações e não limites rígidos).\n",
    "Se desejar, você pode utilizar os seguintes sites para encontrar o conjunto de dados:\n",
    "• Repositório de dados do governo irlandês: https://data.gov.ie/\n",
    "• Pesquisa de conjunto de dados do Google: https://datasetsearch.research.google.com/\n",
    "Você deve então usar os métodos abordados neste curso para concluir uma análise e escrever um relatório sobre os dados usando o Python Notebook. A análise dos dados deve envolver o uso de tabelas, resumos numéricos e resumos gráficos dos dados.\n",
    "Esta parte da sua atribuição será avaliada em termos de:\n",
    "• Uso de funções apropriadas em Python. [15 pontos]\n",
    "• Comentando claramente o código no arquivo .ipynb. [5 pontos]\n",
    "• Produção de resultados claros para o conjunto de dados escolhido, usando medidas estatísticas apropriadas e gráficos apropriados. [15 pontos]\n",
    "• A qualidade dos gráficos incluídos. [5 pontos]\n",
    "• Resumir as conclusões da análise de forma apropriada. [30 pontos]\n"
   ]
  },
  {
   "cell_type": "markdown",
   "id": "ade15202-18b5-4cb0-9263-09e0396ef1f0",
   "metadata": {},
   "source": [
    "### Library Import"
   ]
  },
  {
   "cell_type": "code",
   "execution_count": 1,
   "id": "273e81ac-bbdf-4d17-bbf8-ac72fd313715",
   "metadata": {},
   "outputs": [],
   "source": [
    "import pandas as pd\n",
    "import numpy as np\n",
    "\n",
    "import warnings\n",
    "warnings.filterwarnings(\"ignore\")\n",
    "\n",
    "import matplotlib.pyplot as plt\n"
   ]
  },
  {
   "cell_type": "markdown",
   "id": "01805f9e-6c45-4b34-8c0e-5f67fa7bc06a",
   "metadata": {},
   "source": [
    "# Preparação dos dados"
   ]
  },
  {
   "cell_type": "markdown",
   "id": "1d836f86-3122-4716-a101-6669b656cc9e",
   "metadata": {},
   "source": [
    "### Dataset Reading"
   ]
  },
  {
   "cell_type": "code",
   "execution_count": 2,
   "id": "01904003-77d8-4131-9cbf-d0e1f16adf39",
   "metadata": {},
   "outputs": [],
   "source": [
    "df1 = pd.read_csv('Plant_1_Generation_Data.csv')\n",
    "df2 = pd.read_csv('Plant_2_Generation_Data.csv')"
   ]
  },
  {
   "cell_type": "code",
   "execution_count": 3,
   "id": "7af18b18-652f-4943-8972-0a0d4da91875",
   "metadata": {},
   "outputs": [
    {
     "name": "stdout",
     "output_type": "stream",
     "text": [
      "<class 'pandas.core.frame.DataFrame'>\n",
      "RangeIndex: 68778 entries, 0 to 68777\n",
      "Data columns (total 7 columns):\n",
      " #   Column       Non-Null Count  Dtype  \n",
      "---  ------       --------------  -----  \n",
      " 0   DATE_TIME    68778 non-null  object \n",
      " 1   PLANT_ID     68778 non-null  int64  \n",
      " 2   SOURCE_KEY   68778 non-null  object \n",
      " 3   DC_POWER     68778 non-null  float64\n",
      " 4   AC_POWER     68778 non-null  float64\n",
      " 5   DAILY_YIELD  68778 non-null  float64\n",
      " 6   TOTAL_YIELD  68778 non-null  float64\n",
      "dtypes: float64(4), int64(1), object(2)\n",
      "memory usage: 3.7+ MB\n",
      "<class 'pandas.core.frame.DataFrame'>\n",
      "RangeIndex: 67698 entries, 0 to 67697\n",
      "Data columns (total 7 columns):\n",
      " #   Column       Non-Null Count  Dtype  \n",
      "---  ------       --------------  -----  \n",
      " 0   DATE_TIME    67698 non-null  object \n",
      " 1   PLANT_ID     67698 non-null  int64  \n",
      " 2   SOURCE_KEY   67698 non-null  object \n",
      " 3   DC_POWER     67698 non-null  float64\n",
      " 4   AC_POWER     67698 non-null  float64\n",
      " 5   DAILY_YIELD  67698 non-null  float64\n",
      " 6   TOTAL_YIELD  67698 non-null  float64\n",
      "dtypes: float64(4), int64(1), object(2)\n",
      "memory usage: 3.6+ MB\n"
     ]
    }
   ],
   "source": [
    "df1.info()\n",
    "df2.info()"
   ]
  },
  {
   "cell_type": "code",
   "execution_count": 4,
   "id": "84efdbea-4305-428d-8bda-afef9ee934bd",
   "metadata": {},
   "outputs": [],
   "source": [
    "# Convertendo a coluna 'DATE_TIME' para o tipo datetime\n",
    "df1['DATE_TIME'] = pd.to_datetime(df1['DATE_TIME'])\n",
    "df2['DATE_TIME'] = pd.to_datetime(df2['DATE_TIME'])"
   ]
  },
  {
   "cell_type": "markdown",
   "id": "34539fff-510c-4eb8-8176-0495fce29126",
   "metadata": {},
   "source": [
    "### Concatenando os dois Conjuntos de Dados"
   ]
  },
  {
   "cell_type": "code",
   "execution_count": 5,
   "id": "5f542c2f-b73e-4682-bd3a-76858edea35d",
   "metadata": {},
   "outputs": [],
   "source": [
    "# axis=0 para concatenar ao longo das linhas (empilhar verticalmente)\n",
    "# ignore_index=True para redefinir os índices do DataFrame resultante\n",
    "df = pd.concat([df1, df2], axis=0, ignore_index=True)"
   ]
  },
  {
   "cell_type": "code",
   "execution_count": 6,
   "id": "f8d2afd4-5565-463f-bc6b-51f467afd3e9",
   "metadata": {},
   "outputs": [
    {
     "data": {
      "text/plain": [
       "(136476, 7)"
      ]
     },
     "execution_count": 6,
     "metadata": {},
     "output_type": "execute_result"
    }
   ],
   "source": [
    "df.shape"
   ]
  },
  {
   "cell_type": "code",
   "execution_count": 7,
   "id": "97d87ffc-b701-4919-9a59-18c6ffa9bc79",
   "metadata": {},
   "outputs": [
    {
     "name": "stdout",
     "output_type": "stream",
     "text": [
      "<class 'pandas.core.frame.DataFrame'>\n",
      "RangeIndex: 136476 entries, 0 to 136475\n",
      "Data columns (total 7 columns):\n",
      " #   Column       Non-Null Count   Dtype         \n",
      "---  ------       --------------   -----         \n",
      " 0   DATE_TIME    136476 non-null  datetime64[ns]\n",
      " 1   PLANT_ID     136476 non-null  int64         \n",
      " 2   SOURCE_KEY   136476 non-null  object        \n",
      " 3   DC_POWER     136476 non-null  float64       \n",
      " 4   AC_POWER     136476 non-null  float64       \n",
      " 5   DAILY_YIELD  136476 non-null  float64       \n",
      " 6   TOTAL_YIELD  136476 non-null  float64       \n",
      "dtypes: datetime64[ns](1), float64(4), int64(1), object(1)\n",
      "memory usage: 7.3+ MB\n"
     ]
    }
   ],
   "source": [
    "df.info()"
   ]
  },
  {
   "cell_type": "code",
   "execution_count": 8,
   "id": "b024acc6-6fa1-49e5-88e4-e929fe3ce138",
   "metadata": {},
   "outputs": [
    {
     "data": {
      "text/html": [
       "<div>\n",
       "<style scoped>\n",
       "    .dataframe tbody tr th:only-of-type {\n",
       "        vertical-align: middle;\n",
       "    }\n",
       "\n",
       "    .dataframe tbody tr th {\n",
       "        vertical-align: top;\n",
       "    }\n",
       "\n",
       "    .dataframe thead th {\n",
       "        text-align: right;\n",
       "    }\n",
       "</style>\n",
       "<table border=\"1\" class=\"dataframe\">\n",
       "  <thead>\n",
       "    <tr style=\"text-align: right;\">\n",
       "      <th></th>\n",
       "      <th>DATE_TIME</th>\n",
       "      <th>PLANT_ID</th>\n",
       "      <th>DC_POWER</th>\n",
       "      <th>AC_POWER</th>\n",
       "      <th>DAILY_YIELD</th>\n",
       "      <th>TOTAL_YIELD</th>\n",
       "    </tr>\n",
       "  </thead>\n",
       "  <tbody>\n",
       "    <tr>\n",
       "      <th>count</th>\n",
       "      <td>136476</td>\n",
       "      <td>1.364760e+05</td>\n",
       "      <td>136476.000000</td>\n",
       "      <td>136476.000000</td>\n",
       "      <td>136476.000000</td>\n",
       "      <td>1.364760e+05</td>\n",
       "    </tr>\n",
       "    <tr>\n",
       "      <th>mean</th>\n",
       "      <td>2020-06-01 09:23:03.157478144</td>\n",
       "      <td>4.135497e+06</td>\n",
       "      <td>1708.541497</td>\n",
       "      <td>274.803511</td>\n",
       "      <td>3295.433783</td>\n",
       "      <td>3.303821e+08</td>\n",
       "    </tr>\n",
       "    <tr>\n",
       "      <th>min</th>\n",
       "      <td>2020-05-15 00:00:00</td>\n",
       "      <td>4.135001e+06</td>\n",
       "      <td>0.000000</td>\n",
       "      <td>0.000000</td>\n",
       "      <td>0.000000</td>\n",
       "      <td>0.000000e+00</td>\n",
       "    </tr>\n",
       "    <tr>\n",
       "      <th>25%</th>\n",
       "      <td>2020-05-23 23:00:00</td>\n",
       "      <td>4.135001e+06</td>\n",
       "      <td>0.000000</td>\n",
       "      <td>0.000000</td>\n",
       "      <td>28.321429</td>\n",
       "      <td>6.520020e+06</td>\n",
       "    </tr>\n",
       "    <tr>\n",
       "      <th>50%</th>\n",
       "      <td>2020-06-01 18:45:00</td>\n",
       "      <td>4.135001e+06</td>\n",
       "      <td>6.050000</td>\n",
       "      <td>3.506905</td>\n",
       "      <td>2834.803572</td>\n",
       "      <td>7.269333e+06</td>\n",
       "    </tr>\n",
       "    <tr>\n",
       "      <th>75%</th>\n",
       "      <td>2020-06-09 21:45:00</td>\n",
       "      <td>4.136001e+06</td>\n",
       "      <td>1155.788333</td>\n",
       "      <td>532.673333</td>\n",
       "      <td>5992.000000</td>\n",
       "      <td>2.826096e+08</td>\n",
       "    </tr>\n",
       "    <tr>\n",
       "      <th>max</th>\n",
       "      <td>2020-06-17 23:45:00</td>\n",
       "      <td>4.136001e+06</td>\n",
       "      <td>14471.125000</td>\n",
       "      <td>1410.950000</td>\n",
       "      <td>9873.000000</td>\n",
       "      <td>2.247916e+09</td>\n",
       "    </tr>\n",
       "    <tr>\n",
       "      <th>std</th>\n",
       "      <td>NaN</td>\n",
       "      <td>4.999862e+02</td>\n",
       "      <td>3222.181273</td>\n",
       "      <td>380.182569</td>\n",
       "      <td>3035.294425</td>\n",
       "      <td>6.085705e+08</td>\n",
       "    </tr>\n",
       "  </tbody>\n",
       "</table>\n",
       "</div>"
      ],
      "text/plain": [
       "                           DATE_TIME      PLANT_ID       DC_POWER  \\\n",
       "count                         136476  1.364760e+05  136476.000000   \n",
       "mean   2020-06-01 09:23:03.157478144  4.135497e+06    1708.541497   \n",
       "min              2020-05-15 00:00:00  4.135001e+06       0.000000   \n",
       "25%              2020-05-23 23:00:00  4.135001e+06       0.000000   \n",
       "50%              2020-06-01 18:45:00  4.135001e+06       6.050000   \n",
       "75%              2020-06-09 21:45:00  4.136001e+06    1155.788333   \n",
       "max              2020-06-17 23:45:00  4.136001e+06   14471.125000   \n",
       "std                              NaN  4.999862e+02    3222.181273   \n",
       "\n",
       "            AC_POWER    DAILY_YIELD   TOTAL_YIELD  \n",
       "count  136476.000000  136476.000000  1.364760e+05  \n",
       "mean      274.803511    3295.433783  3.303821e+08  \n",
       "min         0.000000       0.000000  0.000000e+00  \n",
       "25%         0.000000      28.321429  6.520020e+06  \n",
       "50%         3.506905    2834.803572  7.269333e+06  \n",
       "75%       532.673333    5992.000000  2.826096e+08  \n",
       "max      1410.950000    9873.000000  2.247916e+09  \n",
       "std       380.182569    3035.294425  6.085705e+08  "
      ]
     },
     "execution_count": 8,
     "metadata": {},
     "output_type": "execute_result"
    }
   ],
   "source": [
    "df.describe()"
   ]
  },
  {
   "cell_type": "markdown",
   "id": "35f05c8c-f597-4c35-9c4c-3e393596c2c7",
   "metadata": {},
   "source": [
    "### Verificando dados Nulos"
   ]
  },
  {
   "cell_type": "code",
   "execution_count": 9,
   "id": "e2e8d17a-5c1a-45c9-9ea8-e4641a120da7",
   "metadata": {},
   "outputs": [
    {
     "data": {
      "text/plain": [
       "DATE_TIME      0\n",
       "PLANT_ID       0\n",
       "SOURCE_KEY     0\n",
       "DC_POWER       0\n",
       "AC_POWER       0\n",
       "DAILY_YIELD    0\n",
       "TOTAL_YIELD    0\n",
       "dtype: int64"
      ]
     },
     "execution_count": 9,
     "metadata": {},
     "output_type": "execute_result"
    }
   ],
   "source": [
    "df.isnull().sum()"
   ]
  },
  {
   "cell_type": "markdown",
   "id": "d40776f8-c3b2-4961-aa4f-413a5bb0f0e9",
   "metadata": {},
   "source": [
    "### Adequação de variável"
   ]
  },
  {
   "cell_type": "markdown",
   "id": "dd80ebbc-7353-437d-b7e2-1e55f4dd5024",
   "metadata": {},
   "source": [
    "### Separação da variavel DATA_TIME em duas variaveis"
   ]
  },
  {
   "cell_type": "code",
   "execution_count": 10,
   "id": "9b57201c-0224-4511-907a-06d0a42d5b8a",
   "metadata": {},
   "outputs": [
    {
     "name": "stdout",
     "output_type": "stream",
     "text": [
      "                DATE_TIME  PLANT_ID       SOURCE_KEY  DC_POWER  AC_POWER  \\\n",
      "0     2020-05-15 00:00:00   4135001  1BY6WEcLGh8j5v7       0.0       0.0   \n",
      "1     2020-05-15 00:00:00   4135001  1IF53ai7Xc0U56Y       0.0       0.0   \n",
      "2     2020-05-15 00:00:00   4135001  3PZuoBAID5Wc2HD       0.0       0.0   \n",
      "3     2020-05-15 00:00:00   4135001  7JYdWkrLSPkdwr4       0.0       0.0   \n",
      "4     2020-05-15 00:00:00   4135001  McdE0feGgRqW7Ca       0.0       0.0   \n",
      "...                   ...       ...              ...       ...       ...   \n",
      "68773 2020-06-17 23:45:00   4135001  uHbuxQJl8lW7ozc       0.0       0.0   \n",
      "68774 2020-06-17 23:45:00   4135001  wCURE6d3bPkepu2       0.0       0.0   \n",
      "68775 2020-06-17 23:45:00   4135001  z9Y9gH1T5YWrNuG       0.0       0.0   \n",
      "68776 2020-06-17 23:45:00   4135001  zBIq5rxdHJRwDNY       0.0       0.0   \n",
      "68777 2020-06-17 23:45:00   4135001  zVJPv84UY57bAof       0.0       0.0   \n",
      "\n",
      "       DAILY_YIELD  TOTAL_YIELD  \n",
      "0            0.000    6259559.0  \n",
      "1            0.000    6183645.0  \n",
      "2            0.000    6987759.0  \n",
      "3            0.000    7602960.0  \n",
      "4            0.000    7158964.0  \n",
      "...            ...          ...  \n",
      "68773     5967.000    7287002.0  \n",
      "68774     5147.625    7028601.0  \n",
      "68775     5819.000    7251204.0  \n",
      "68776     5817.000    6583369.0  \n",
      "68777     5910.000    7363272.0  \n",
      "\n",
      "[68778 rows x 7 columns]\n"
     ]
    }
   ],
   "source": [
    "# Separando a coluna 'DATE_TIME' em duas colunas diferentes\n",
    "df['DATE'] = df['DATE_TIME'].dt.date\n",
    "df['TIME'] = df['DATE_TIME'].dt.time\n",
    "\n",
    "# Exibindo o DataFrame resultante\n",
    "print(df1)"
   ]
  },
  {
   "cell_type": "markdown",
   "id": "15e6aa91-84e7-47c7-96ca-7c80610339d8",
   "metadata": {},
   "source": [
    "### Apagando coluna DATE_TIME"
   ]
  },
  {
   "cell_type": "code",
   "execution_count": 11,
   "id": "120e24ea-3f01-497d-8784-4b8831f6bdcf",
   "metadata": {},
   "outputs": [],
   "source": [
    "df = df.drop(columns=['DATE_TIME'])"
   ]
  },
  {
   "cell_type": "markdown",
   "id": "59b23b63-0dc9-4fda-b01d-d9cb7d1a8269",
   "metadata": {},
   "source": [
    "### Mudança de nome de variavel"
   ]
  },
  {
   "cell_type": "code",
   "execution_count": 12,
   "id": "aa8909e8-487e-4991-8203-c2647ba28d42",
   "metadata": {},
   "outputs": [],
   "source": [
    "df = df.rename(columns={'SOURCE_KEY':'INVERTER'})"
   ]
  },
  {
   "cell_type": "markdown",
   "id": "6a356d03-359e-42d5-955a-954326d4b754",
   "metadata": {},
   "source": [
    "### Function imprimir_valores_unicos()\n",
    "A function that prints the unique values of each variable."
   ]
  },
  {
   "cell_type": "code",
   "execution_count": 13,
   "id": "ebdfe730-1974-4af0-abc8-793cbb4a024b",
   "metadata": {
    "scrolled": true
   },
   "outputs": [
    {
     "name": "stdout",
     "output_type": "stream",
     "text": [
      "  PLANT_ID = [4135001 4136001]\n",
      "  INVERTER = ['1BY6WEcLGh8j5v7' '1IF53ai7Xc0U56Y' '3PZuoBAID5Wc2HD' '7JYdWkrLSPkdwr4'\n",
      " 'McdE0feGgRqW7Ca' 'VHMLBKoKgIrUVDU' 'WRmjgnKYAwPKWDb' 'ZnxXDlPa8U1GXgE'\n",
      " 'ZoEaEvLYb1n2sOq' 'adLQvlD726eNBSB' 'bvBOhCH3iADSZry' 'iCRJl6heRkivqQ3'\n",
      " 'ih0vzX44oOqAx2f' 'pkci93gMrogZuBj' 'rGa61gmuvPhdLxV' 'sjndEbLyjtCKgGv'\n",
      " 'uHbuxQJl8lW7ozc' 'wCURE6d3bPkepu2' 'z9Y9gH1T5YWrNuG' 'zBIq5rxdHJRwDNY'\n",
      " 'zVJPv84UY57bAof' 'YxYtjZvoooNbGkE' '4UPUqMRk7TRMgml' '81aHJ1q11NBPMrL'\n",
      " '9kRcWv60rDACzjR' 'Et9kgGMDl729KT4' 'IQ2d7wF4YD8zU1Q' 'LYwnQax7tkwH5Cb'\n",
      " 'LlT2YUhhzqhg5Sw' 'Mx2yZCDsyf6DPfv' 'NgDl19wMapZy17u' 'PeE6FRyGXUgsRhN'\n",
      " 'Qf4GUc1pJu5T6c6' 'Quc1TzYxW2pYoWX' 'V94E5Ben1TlhnDV' 'WcxssY2VbP4hApt'\n",
      " 'mqwcsP2rE7J0TFp' 'oZ35aAeoifZaQzV' 'oZZkBaNadn6DNKz' 'q49J1IKaHRwDQnt'\n",
      " 'rrq4fwE8jgrTyWY' 'vOuJvMaM2sgwLmb' 'xMbIugepa2P7lBB' 'xoJJ8DcxJEcupym']\n",
      "  DC_POWER = [ 0.         37.14285714 53.5        ...  3.78        3.58\n",
      "  3.90714286]\n",
      "  AC_POWER = [0.         3.58571429 5.1625     ... 3.63333333 3.45333333 3.75714286]\n",
      "  DAILY_YIELD = [0.00000000e+00 2.62500000e+00 3.00000000e+00 ... 4.21800000e+03\n",
      " 4.31600000e+03 4.12842857e+03]\n",
      "  TOTAL_YIELD = [6.25955900e+06 6.18364500e+06 6.98775900e+06 ... 1.06896394e+08\n",
      " 2.09335741e+08 2.46395964e+06]\n",
      "  DATE = [datetime.date(2020, 5, 15) datetime.date(2020, 5, 16)\n",
      " datetime.date(2020, 5, 17) datetime.date(2020, 5, 18)\n",
      " datetime.date(2020, 5, 19) datetime.date(2020, 5, 20)\n",
      " datetime.date(2020, 5, 21) datetime.date(2020, 5, 22)\n",
      " datetime.date(2020, 5, 23) datetime.date(2020, 5, 24)\n",
      " datetime.date(2020, 5, 25) datetime.date(2020, 5, 26)\n",
      " datetime.date(2020, 5, 27) datetime.date(2020, 5, 28)\n",
      " datetime.date(2020, 5, 29) datetime.date(2020, 5, 30)\n",
      " datetime.date(2020, 5, 31) datetime.date(2020, 6, 1)\n",
      " datetime.date(2020, 6, 2) datetime.date(2020, 6, 3)\n",
      " datetime.date(2020, 6, 4) datetime.date(2020, 6, 5)\n",
      " datetime.date(2020, 6, 6) datetime.date(2020, 6, 7)\n",
      " datetime.date(2020, 6, 8) datetime.date(2020, 6, 9)\n",
      " datetime.date(2020, 6, 10) datetime.date(2020, 6, 11)\n",
      " datetime.date(2020, 6, 12) datetime.date(2020, 6, 13)\n",
      " datetime.date(2020, 6, 14) datetime.date(2020, 6, 15)\n",
      " datetime.date(2020, 6, 16) datetime.date(2020, 6, 17)]\n",
      "  TIME = [datetime.time(0, 0) datetime.time(0, 15) datetime.time(0, 30)\n",
      " datetime.time(0, 45) datetime.time(1, 0) datetime.time(1, 15)\n",
      " datetime.time(1, 30) datetime.time(1, 45) datetime.time(2, 0)\n",
      " datetime.time(2, 15) datetime.time(2, 30) datetime.time(2, 45)\n",
      " datetime.time(3, 0) datetime.time(3, 15) datetime.time(3, 30)\n",
      " datetime.time(3, 45) datetime.time(4, 0) datetime.time(4, 15)\n",
      " datetime.time(4, 30) datetime.time(4, 45) datetime.time(5, 0)\n",
      " datetime.time(5, 15) datetime.time(5, 30) datetime.time(5, 45)\n",
      " datetime.time(6, 0) datetime.time(6, 15) datetime.time(6, 30)\n",
      " datetime.time(6, 45) datetime.time(7, 0) datetime.time(7, 15)\n",
      " datetime.time(7, 30) datetime.time(7, 45) datetime.time(8, 0)\n",
      " datetime.time(8, 15) datetime.time(8, 30) datetime.time(8, 45)\n",
      " datetime.time(9, 0) datetime.time(9, 15) datetime.time(9, 30)\n",
      " datetime.time(9, 45) datetime.time(10, 0) datetime.time(10, 15)\n",
      " datetime.time(10, 30) datetime.time(10, 45) datetime.time(11, 0)\n",
      " datetime.time(11, 15) datetime.time(11, 30) datetime.time(11, 45)\n",
      " datetime.time(12, 0) datetime.time(12, 15) datetime.time(12, 30)\n",
      " datetime.time(12, 45) datetime.time(13, 0) datetime.time(13, 15)\n",
      " datetime.time(13, 30) datetime.time(13, 45) datetime.time(14, 0)\n",
      " datetime.time(14, 15) datetime.time(14, 30) datetime.time(14, 45)\n",
      " datetime.time(15, 0) datetime.time(15, 15) datetime.time(15, 30)\n",
      " datetime.time(15, 45) datetime.time(16, 0) datetime.time(16, 15)\n",
      " datetime.time(16, 30) datetime.time(16, 45) datetime.time(17, 0)\n",
      " datetime.time(17, 15) datetime.time(17, 30) datetime.time(17, 45)\n",
      " datetime.time(18, 0) datetime.time(18, 15) datetime.time(18, 30)\n",
      " datetime.time(18, 45) datetime.time(19, 0) datetime.time(19, 15)\n",
      " datetime.time(19, 30) datetime.time(19, 45) datetime.time(20, 0)\n",
      " datetime.time(20, 15) datetime.time(20, 30) datetime.time(20, 45)\n",
      " datetime.time(21, 0) datetime.time(21, 15) datetime.time(21, 30)\n",
      " datetime.time(21, 45) datetime.time(22, 0) datetime.time(22, 15)\n",
      " datetime.time(22, 30) datetime.time(22, 45) datetime.time(23, 0)\n",
      " datetime.time(23, 15) datetime.time(23, 30) datetime.time(23, 45)]\n"
     ]
    }
   ],
   "source": [
    "def imprimir_valores_unicos(data_f):\n",
    "    for coluna in data_f.columns:\n",
    "        valores_unicos = data_f[coluna].unique()\n",
    "        print(f\"  {coluna} = {valores_unicos}\")\n",
    "\n",
    "imprimir_valores_unicos(df)"
   ]
  },
  {
   "cell_type": "code",
   "execution_count": 14,
   "id": "8411d01e-3f0a-46e4-ad86-33b6cbe238e9",
   "metadata": {},
   "outputs": [
    {
     "data": {
      "text/html": [
       "<div>\n",
       "<style scoped>\n",
       "    .dataframe tbody tr th:only-of-type {\n",
       "        vertical-align: middle;\n",
       "    }\n",
       "\n",
       "    .dataframe tbody tr th {\n",
       "        vertical-align: top;\n",
       "    }\n",
       "\n",
       "    .dataframe thead th {\n",
       "        text-align: right;\n",
       "    }\n",
       "</style>\n",
       "<table border=\"1\" class=\"dataframe\">\n",
       "  <thead>\n",
       "    <tr style=\"text-align: right;\">\n",
       "      <th></th>\n",
       "      <th>PLANT_ID</th>\n",
       "      <th>INVERTER</th>\n",
       "      <th>DC_POWER</th>\n",
       "      <th>AC_POWER</th>\n",
       "      <th>DAILY_YIELD</th>\n",
       "      <th>TOTAL_YIELD</th>\n",
       "      <th>DATE</th>\n",
       "      <th>TIME</th>\n",
       "    </tr>\n",
       "  </thead>\n",
       "  <tbody>\n",
       "    <tr>\n",
       "      <th>0</th>\n",
       "      <td>4135001</td>\n",
       "      <td>1BY6WEcLGh8j5v7</td>\n",
       "      <td>0.0</td>\n",
       "      <td>0.0</td>\n",
       "      <td>0.0</td>\n",
       "      <td>6259559.0</td>\n",
       "      <td>2020-05-15</td>\n",
       "      <td>00:00:00</td>\n",
       "    </tr>\n",
       "    <tr>\n",
       "      <th>1</th>\n",
       "      <td>4135001</td>\n",
       "      <td>1IF53ai7Xc0U56Y</td>\n",
       "      <td>0.0</td>\n",
       "      <td>0.0</td>\n",
       "      <td>0.0</td>\n",
       "      <td>6183645.0</td>\n",
       "      <td>2020-05-15</td>\n",
       "      <td>00:00:00</td>\n",
       "    </tr>\n",
       "    <tr>\n",
       "      <th>2</th>\n",
       "      <td>4135001</td>\n",
       "      <td>3PZuoBAID5Wc2HD</td>\n",
       "      <td>0.0</td>\n",
       "      <td>0.0</td>\n",
       "      <td>0.0</td>\n",
       "      <td>6987759.0</td>\n",
       "      <td>2020-05-15</td>\n",
       "      <td>00:00:00</td>\n",
       "    </tr>\n",
       "    <tr>\n",
       "      <th>3</th>\n",
       "      <td>4135001</td>\n",
       "      <td>7JYdWkrLSPkdwr4</td>\n",
       "      <td>0.0</td>\n",
       "      <td>0.0</td>\n",
       "      <td>0.0</td>\n",
       "      <td>7602960.0</td>\n",
       "      <td>2020-05-15</td>\n",
       "      <td>00:00:00</td>\n",
       "    </tr>\n",
       "    <tr>\n",
       "      <th>4</th>\n",
       "      <td>4135001</td>\n",
       "      <td>McdE0feGgRqW7Ca</td>\n",
       "      <td>0.0</td>\n",
       "      <td>0.0</td>\n",
       "      <td>0.0</td>\n",
       "      <td>7158964.0</td>\n",
       "      <td>2020-05-15</td>\n",
       "      <td>00:00:00</td>\n",
       "    </tr>\n",
       "    <tr>\n",
       "      <th>...</th>\n",
       "      <td>...</td>\n",
       "      <td>...</td>\n",
       "      <td>...</td>\n",
       "      <td>...</td>\n",
       "      <td>...</td>\n",
       "      <td>...</td>\n",
       "      <td>...</td>\n",
       "      <td>...</td>\n",
       "    </tr>\n",
       "    <tr>\n",
       "      <th>136471</th>\n",
       "      <td>4136001</td>\n",
       "      <td>q49J1IKaHRwDQnt</td>\n",
       "      <td>0.0</td>\n",
       "      <td>0.0</td>\n",
       "      <td>4157.0</td>\n",
       "      <td>520758.0</td>\n",
       "      <td>2020-06-17</td>\n",
       "      <td>23:45:00</td>\n",
       "    </tr>\n",
       "    <tr>\n",
       "      <th>136472</th>\n",
       "      <td>4136001</td>\n",
       "      <td>rrq4fwE8jgrTyWY</td>\n",
       "      <td>0.0</td>\n",
       "      <td>0.0</td>\n",
       "      <td>3931.0</td>\n",
       "      <td>121131356.0</td>\n",
       "      <td>2020-06-17</td>\n",
       "      <td>23:45:00</td>\n",
       "    </tr>\n",
       "    <tr>\n",
       "      <th>136473</th>\n",
       "      <td>4136001</td>\n",
       "      <td>vOuJvMaM2sgwLmb</td>\n",
       "      <td>0.0</td>\n",
       "      <td>0.0</td>\n",
       "      <td>4322.0</td>\n",
       "      <td>2427691.0</td>\n",
       "      <td>2020-06-17</td>\n",
       "      <td>23:45:00</td>\n",
       "    </tr>\n",
       "    <tr>\n",
       "      <th>136474</th>\n",
       "      <td>4136001</td>\n",
       "      <td>xMbIugepa2P7lBB</td>\n",
       "      <td>0.0</td>\n",
       "      <td>0.0</td>\n",
       "      <td>4218.0</td>\n",
       "      <td>106896394.0</td>\n",
       "      <td>2020-06-17</td>\n",
       "      <td>23:45:00</td>\n",
       "    </tr>\n",
       "    <tr>\n",
       "      <th>136475</th>\n",
       "      <td>4136001</td>\n",
       "      <td>xoJJ8DcxJEcupym</td>\n",
       "      <td>0.0</td>\n",
       "      <td>0.0</td>\n",
       "      <td>4316.0</td>\n",
       "      <td>209335741.0</td>\n",
       "      <td>2020-06-17</td>\n",
       "      <td>23:45:00</td>\n",
       "    </tr>\n",
       "  </tbody>\n",
       "</table>\n",
       "<p>136476 rows × 8 columns</p>\n",
       "</div>"
      ],
      "text/plain": [
       "        PLANT_ID         INVERTER  DC_POWER  AC_POWER  DAILY_YIELD  \\\n",
       "0        4135001  1BY6WEcLGh8j5v7       0.0       0.0          0.0   \n",
       "1        4135001  1IF53ai7Xc0U56Y       0.0       0.0          0.0   \n",
       "2        4135001  3PZuoBAID5Wc2HD       0.0       0.0          0.0   \n",
       "3        4135001  7JYdWkrLSPkdwr4       0.0       0.0          0.0   \n",
       "4        4135001  McdE0feGgRqW7Ca       0.0       0.0          0.0   \n",
       "...          ...              ...       ...       ...          ...   \n",
       "136471   4136001  q49J1IKaHRwDQnt       0.0       0.0       4157.0   \n",
       "136472   4136001  rrq4fwE8jgrTyWY       0.0       0.0       3931.0   \n",
       "136473   4136001  vOuJvMaM2sgwLmb       0.0       0.0       4322.0   \n",
       "136474   4136001  xMbIugepa2P7lBB       0.0       0.0       4218.0   \n",
       "136475   4136001  xoJJ8DcxJEcupym       0.0       0.0       4316.0   \n",
       "\n",
       "        TOTAL_YIELD        DATE      TIME  \n",
       "0         6259559.0  2020-05-15  00:00:00  \n",
       "1         6183645.0  2020-05-15  00:00:00  \n",
       "2         6987759.0  2020-05-15  00:00:00  \n",
       "3         7602960.0  2020-05-15  00:00:00  \n",
       "4         7158964.0  2020-05-15  00:00:00  \n",
       "...             ...         ...       ...  \n",
       "136471     520758.0  2020-06-17  23:45:00  \n",
       "136472  121131356.0  2020-06-17  23:45:00  \n",
       "136473    2427691.0  2020-06-17  23:45:00  \n",
       "136474  106896394.0  2020-06-17  23:45:00  \n",
       "136475  209335741.0  2020-06-17  23:45:00  \n",
       "\n",
       "[136476 rows x 8 columns]"
      ]
     },
     "execution_count": 14,
     "metadata": {},
     "output_type": "execute_result"
    }
   ],
   "source": [
    "df"
   ]
  },
  {
   "cell_type": "markdown",
   "id": "7278f88a-4af9-4aa2-85cd-684ab95c2609",
   "metadata": {},
   "source": [
    "### Duplicate Data"
   ]
  },
  {
   "cell_type": "code",
   "execution_count": 15,
   "id": "55d081b8-5eca-4667-aa13-1071c60d3804",
   "metadata": {},
   "outputs": [
    {
     "name": "stdout",
     "output_type": "stream",
     "text": [
      "number of duplicate rows:  (0, 8)\n"
     ]
    }
   ],
   "source": [
    "duplicate_rows_df = df[df.duplicated()]\n",
    "print(\"number of duplicate rows: \" , duplicate_rows_df.shape)"
   ]
  },
  {
   "cell_type": "markdown",
   "id": "96ac35b3-79a7-4878-a41a-735e622b0ecb",
   "metadata": {},
   "source": [
    "# Analise dos dados\n",
    "\n",
    "### Mean, Median, Mode, desvio padrão, Intervalo Interquartil\n",
    "encontrando os valores estatisticos de cada variaveis numéricas"
   ]
  },
  {
   "cell_type": "code",
   "execution_count": 16,
   "id": "15730750-7e5b-49f1-aed9-e4e480bf29df",
   "metadata": {},
   "outputs": [],
   "source": [
    "# Lista de colunas para calculo de valores estatisticos\n",
    "columns_df= ['DC_POWER', 'AC_POWER', 'DAILY_YIELD', 'TOTAL_YIELD']"
   ]
  },
  {
   "cell_type": "code",
   "execution_count": 17,
   "id": "72bdf090-7ed3-40b1-8cc1-b15c25e3cf8d",
   "metadata": {},
   "outputs": [],
   "source": [
    "# Função para calcular a média das variaveis e imprimi-las\n",
    "def calculate_means(df, columns):\n",
    "    for column in columns:\n",
    "        mean = df[column].mean()\n",
    "        print(f\"Mean of {column}: {mean}\")\n",
    "\n",
    "# Função para calcular a mediana das variaveis e imprimi-las\n",
    "def calculate_median(df, columns):\n",
    "    for column in columns:\n",
    "        median = df[column].median()\n",
    "        print(f\"Median of {column}: {median}\")\n",
    "\n",
    "# Função para calcular a moda das variaveis e imprimi-las\n",
    "def calculate_mode(df, columns):\n",
    "    for column in columns:\n",
    "        mode = df[column].mode()\n",
    "        print(f\"Mode of {column}: {mode}\")\n",
    "\n",
    "# Função para Calcular o desvio padrão das variáveis e imprimí-las\n",
    "def calculate_stdd(df, columns):\n",
    "    for column in columns:\n",
    "        stdd = df[column].std()\n",
    "        print(f\"Std Deviation of {column}: {stdd}\")\n",
    "\n",
    "def calculate_IQR(df, columns):\n",
    "    for column in columns:\n",
    "        Q1 = df[column].quantile(0.25)\n",
    "        Q3 = df[column].quantile(0.75)\n",
    "        IQR = Q3 - Q1\n",
    "        print(f\"Intervalo Interquartil (IQR) of {column}: {IQR}\")\n"
   ]
  },
  {
   "cell_type": "code",
   "execution_count": 18,
   "id": "d132a22c-355c-4126-ac2c-a976d35eb77d",
   "metadata": {},
   "outputs": [
    {
     "name": "stdout",
     "output_type": "stream",
     "text": [
      "Mean of DC_POWER: 1708.541496702347\n",
      "Mean of AC_POWER: 274.80351054960653\n",
      "Mean of DAILY_YIELD: 3295.433783295412\n",
      "Mean of TOTAL_YIELD: 330382090.0684921\n"
     ]
    }
   ],
   "source": [
    "calculate_means(df, columns_df)"
   ]
  },
  {
   "cell_type": "code",
   "execution_count": 19,
   "id": "5147aa18-ebac-46fa-b32a-5d3f283f73a8",
   "metadata": {},
   "outputs": [
    {
     "name": "stdout",
     "output_type": "stream",
     "text": [
      "Median of DC_POWER: 6.05\n",
      "Median of AC_POWER: 3.506904761904762\n",
      "Median of DAILY_YIELD: 2834.8035715\n",
      "Median of TOTAL_YIELD: 7269333.0\n"
     ]
    }
   ],
   "source": [
    "calculate_median(df, columns_df)"
   ]
  },
  {
   "cell_type": "code",
   "execution_count": 20,
   "id": "fb9cca8d-c6b0-4f42-a8f4-48e86a875573",
   "metadata": {},
   "outputs": [
    {
     "name": "stdout",
     "output_type": "stream",
     "text": [
      "Mode of DC_POWER: 0    0.0\n",
      "Name: DC_POWER, dtype: float64\n",
      "Mode of AC_POWER: 0    0.0\n",
      "Name: AC_POWER, dtype: float64\n",
      "Mode of DAILY_YIELD: 0    0.0\n",
      "Name: DAILY_YIELD, dtype: float64\n",
      "Mode of TOTAL_YIELD: 0    0.0\n",
      "Name: TOTAL_YIELD, dtype: float64\n"
     ]
    }
   ],
   "source": [
    "calculate_mode(df, columns_df)"
   ]
  },
  {
   "cell_type": "code",
   "execution_count": 21,
   "id": "1df47de0-b8d5-4ed8-84bc-757fcf66290d",
   "metadata": {},
   "outputs": [
    {
     "name": "stdout",
     "output_type": "stream",
     "text": [
      "Std Deviation of DC_POWER: 3222.1812733562097\n",
      "Std Deviation of AC_POWER: 380.18256929405555\n",
      "Std Deviation of DAILY_YIELD: 3035.294425108002\n",
      "Std Deviation of TOTAL_YIELD: 608570527.4088567\n"
     ]
    }
   ],
   "source": [
    "calculate_stdd(df, columns_df)"
   ]
  },
  {
   "cell_type": "code",
   "execution_count": 22,
   "id": "91e36e52-81c9-4ed0-be72-e001e75a62eb",
   "metadata": {
    "scrolled": true
   },
   "outputs": [
    {
     "name": "stdout",
     "output_type": "stream",
     "text": [
      "Intervalo Interquartil (IQR) of DC_POWER: 1155.788333333333\n",
      "Intervalo Interquartil (IQR) of AC_POWER: 532.6733333333333\n",
      "Intervalo Interquartil (IQR) of DAILY_YIELD: 5963.67857143\n",
      "Intervalo Interquartil (IQR) of TOTAL_YIELD: 276089566.0\n"
     ]
    }
   ],
   "source": [
    "calculate_IQR(df, columns_df)"
   ]
  },
  {
   "cell_type": "code",
   "execution_count": 23,
   "id": "a2a10e7c-4805-4765-9ebf-275b902f3829",
   "metadata": {},
   "outputs": [
    {
     "data": {
      "image/png": "[encoded data removed]",
      "text/plain": [
       "<Figure size 640x480 with 1 Axes>"
      ]
     },
     "metadata": {},
     "output_type": "display_data"
    }
   ],
   "source": [
    "# Filtrando os valores menores que o limite inferior\n",
    "df_filtered = df[df['TOTAL_YIELD'] != 0.0]\n",
    "\n",
    "# Calculando o coeficiente de assimetria\n",
    "skewness = df['TOTAL_YIELD'].skew()\n",
    "\n",
    "# Plotando o histograma\n",
    "plt.hist(df_filtered['TOTAL_YIELD'], bins=10, color='skyblue', edgecolor='black')\n",
    "\n",
    "# Adicionando rótulos e título\n",
    "plt.xlabel('Valores')\n",
    "plt.ylabel('Frequência')\n",
    "plt.title('Histograma da TOTAL_YIELD')\n",
    "\n",
    "# Adicionando texto com o valor do coeficiente de assimetria\n",
    "plt.text(0.95, 0.95, f'Skewness: {skewness}', ha='right', va='top', transform=plt.gca().transAxes)\n",
    "\n",
    "# Exibindo o histograma\n",
    "plt.show()"
   ]
  },
  {
   "cell_type": "code",
   "execution_count": 24,
   "id": "24bafb9e-8b0d-47de-8083-866812b188f7",
   "metadata": {},
   "outputs": [
    {
     "data": {
      "image/png": "[encoded data removed]",
      "text/plain": [
       "<Figure size 640x480 with 1 Axes>"
      ]
     },
     "metadata": {},
     "output_type": "display_data"
    }
   ],
   "source": [
    "# Filtrando os valores menores que o limite inferior\n",
    "df_filtered = df[df['DAILY_YIELD'] != 0.0]\n",
    "\n",
    "# Calculando o coeficiente de assimetria\n",
    "skewness = df['DAILY_YIELD'].skew()\n",
    "\n",
    "# Plotando o histograma\n",
    "plt.hist(df_filtered['DAILY_YIELD'], bins=100, color='skyblue', edgecolor='black')\n",
    "\n",
    "# Adicionando rótulos e título\n",
    "plt.xlabel('Valores')\n",
    "plt.ylabel('Frequência')\n",
    "plt.title('Histograma da DAILY_YIELD')\n",
    "\n",
    "# Adicionando texto com o valor do coeficiente de assimetria\n",
    "plt.text(0.95, 0.95, f'Skewness: {skewness}', ha='right', va='top', transform=plt.gca().transAxes)\n",
    "\n",
    "# Exibindo o histograma\n",
    "plt.show()"
   ]
  },
  {
   "cell_type": "code",
   "execution_count": 25,
   "id": "664a240d-1052-4c20-a2ee-de4dea384e60",
   "metadata": {},
   "outputs": [
    {
     "data": {
      "image/png": "[encoded data removed]",
      "text/plain": [
       "<Figure size 640x480 with 1 Axes>"
      ]
     },
     "metadata": {},
     "output_type": "display_data"
    }
   ],
   "source": [
    "# Filtrando os valores menores que o limite inferior\n",
    "df_filtered = df[df['AC_POWER'] != 0.0]\n",
    "\n",
    "# Calculando o coeficiente de assimetria\n",
    "skewness = df['AC_POWER'].skew()\n",
    "\n",
    "# Plotando o histograma\n",
    "plt.hist(df_filtered['AC_POWER'], bins=100, color='skyblue', edgecolor='black')\n",
    "\n",
    "# Adicionando rótulos e título\n",
    "plt.xlabel('Valores')\n",
    "plt.ylabel('Frequência')\n",
    "plt.title('Histograma da AC_POWER')\n",
    "\n",
    "# Adicionando texto com o valor do coeficiente de assimetria\n",
    "plt.text(0.95, 0.95, f'Skewness: {skewness}', ha='right', va='top', transform=plt.gca().transAxes)\n",
    "\n",
    "# Exibindo o histograma\n",
    "plt.show()"
   ]
  },
  {
   "cell_type": "code",
   "execution_count": 26,
   "id": "8fe322ab-aa11-40fc-a798-d3b9d24285cd",
   "metadata": {},
   "outputs": [
    {
     "data": {
      "image/png": "[encoded data removed]",
      "text/plain": [
       "<Figure size 640x480 with 1 Axes>"
      ]
     },
     "metadata": {},
     "output_type": "display_data"
    }
   ],
   "source": [
    "# Filtrando os valores menores que o limite inferior\n",
    "df_filtered = df[df['DC_POWER'] != 0.0]\n",
    "\n",
    "# Calculando o coeficiente de assimetria\n",
    "skewness = df['DC_POWER'].skew()\n",
    "\n",
    "# Plotando o histograma\n",
    "plt.hist(df_filtered['DC_POWER'], bins=100, color='skyblue', edgecolor='black')\n",
    "\n",
    "# Adicionando rótulos e título\n",
    "plt.xlabel('Valores')\n",
    "plt.ylabel('Frequência')\n",
    "plt.title('Histograma da DC_POWER')\n",
    "\n",
    "# Adicionando texto com o valor do coeficiente de assimetria\n",
    "plt.text(0.95, 0.95, f'Skewness: {skewness}', ha='right', va='top', transform=plt.gca().transAxes)\n",
    "\n",
    "# Exibindo o histograma\n",
    "plt.show()"
   ]
  },
  {
   "cell_type": "markdown",
   "id": "6ea57b66-5109-4d3b-84fe-1a8fdb323353",
   "metadata": {},
   "source": [
    "# Tarefa 2 - Probabilidade (Discreta):\n",
    "• Qual é a probabilidade de rolar exatamente dois 6s em cinco lançamentos de um dado justo?\n",
    "• O número de acidentes industriais em média por semana de trabalho em uma fábrica é de 0,75. Supondo que a distribuição de acidentes siga uma distribuição de Poisson, encontre a probabilidade de que em uma semana específica não haja mais do que dois acidentes.\n",
    "Apenas declarar as respostas aqui não é suficiente - você deve mostrar claramente como encontrou sua resposta, justificar quaisquer decisões tomadas e incluir gráficos, quando apropriado.\n"
   ]
  },
  {
   "cell_type": "code",
   "execution_count": 27,
   "id": "b3e28cdb-cb8d-4a60-af6d-c60af444287a",
   "metadata": {},
   "outputs": [],
   "source": [
    "from scipy.stats import binom\n",
    "import matplotlib.pyplot as plt\n",
    "import numpy as np\n",
    "import math"
   ]
  },
  {
   "cell_type": "code",
   "execution_count": 28,
   "id": "ad894f61-2fed-49e1-a04e-4522488aa0a4",
   "metadata": {},
   "outputs": [
    {
     "name": "stdout",
     "output_type": "stream",
     "text": [
      "The probability of rolling exactly two 6s in five rolls of a fair die is: 0.16075102880658423\n"
     ]
    }
   ],
   "source": [
    "# Parameters of the binomial distribution\n",
    "n = 5  # total number of trials (dice rolls)\n",
    "p = 1/6  # probability of a single success (probability of rolling a 6 on a fair die)\n",
    "\n",
    "# Calculating the probability of X=2\n",
    "k = 2  # number of successes (number of 6s)\n",
    "probability = binom.pmf(k, n, p)\n",
    "\n",
    "print(\"The probability of rolling exactly two 6s in five rolls of a fair die is:\", probability)"
   ]
  },
  {
   "cell_type": "code",
   "execution_count": 29,
   "id": "75b509b5-7ded-4a0b-80c8-63f7e085f46c",
   "metadata": {},
   "outputs": [
    {
     "data": {
      "image/png": "[encoded data removed]",
      "text/plain": [
       "<Figure size 640x480 with 1 Axes>"
      ]
     },
     "metadata": {},
     "output_type": "display_data"
    }
   ],
   "source": [
    "# Creating a graphical representation of the binomial distribution\n",
    "x = np.arange(0, n+1)\n",
    "probabilities = binom.pmf(x, n, p)\n",
    "\n",
    "# Setting colors for each bar\n",
    "colors = ['skyblue'] * (n + 1)\n",
    "colors[k] = 'orange'  # Changing the color of the bar for k=2 to orange\n",
    "\n",
    "plt.bar(x, probabilities, color=colors)\n",
    "plt.xlabel('Number of 6s')\n",
    "plt.ylabel('Probability')\n",
    "plt.title('Binomial Distribution: Probability of X successes in 5 rolls of a fair die')\n",
    "plt.show()"
   ]
  },
  {
   "cell_type": "code",
   "execution_count": 32,
   "id": "d264f9d7-ec46-4ec4-a78a-121aeec5b78c",
   "metadata": {},
   "outputs": [
    {
     "name": "stdout",
     "output_type": "stream",
     "text": [
      "The probability that in a specific week there are no more than two accidents is 0.1329 or 13.29%.\n"
     ]
    }
   ],
   "source": [
    "# Given data\n",
    "lambda_value = 0.75\n",
    "k = 2\n",
    "\n",
    "# Calculating probability using Poisson distribution formula\n",
    "probability = (math.exp(-lambda_value) * lambda_value**k) / math.factorial(k)\n",
    "\n",
    "# Printing the result\n",
    "print(f'The probability that in a specific week there are no more than two accidents is {probability:.4f} or {probability*100:.2f}%.')"
   ]
  },
  {
   "cell_type": "code",
   "execution_count": null,
   "id": "9ce72c55-9e74-42ef-8da2-2286de682ebc",
   "metadata": {},
   "outputs": [],
   "source": []
  }
 ],
 "metadata": {
  "kernelspec": {
   "display_name": "Python 3 (ipykernel)",
   "language": "python",
   "name": "python3"
  },
  "language_info": {
   "codemirror_mode": {
    "name": "ipython",
    "version": 3
   },
   "file_extension": ".py",
   "mimetype": "text/x-python",
   "name": "python",
   "nbconvert_exporter": "python",
   "pygments_lexer": "ipython3",
   "version": "3.9.19"
  }
 },
 "nbformat": 4,
 "nbformat_minor": 5
}
